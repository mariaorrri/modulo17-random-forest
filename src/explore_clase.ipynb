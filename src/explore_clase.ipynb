{
    "cells": [
        {
            "cell_type": "markdown",
            "metadata": {},
            "source": [
                "# Ejercicio Clase"
            ]
        },
        {
            "cell_type": "code",
            "execution_count": null,
            "metadata": {},
            "outputs": [],
            "source": [
                "# from numpy.random import seed, choice\n",
                "# from sklearn.model_selection import train_test_split\n",
                "# from sklearn.tree import DecisionTreeClassifier\n",
                "# from collections import Counter\n",
                "# import numpy as np\n",
                "# from sklearn.metrics import *\n",
                "# from imblearn.metrics import specificity_score\n",
                "# import pandas as pd"
            ]
        },
        {
            "cell_type": "code",
            "execution_count": null,
            "metadata": {},
            "outputs": [],
            "source": [
                "# df = pd.read_csv('https://raw.githubusercontent.com/4GeeksAcademy/decision-tree-project-tutorial/main/diabetes.csv')\n",
                "# pd.set_option('display.max_columns', None)\n",
                "# df.head()"
            ]
        },
        {
            "cell_type": "markdown",
            "metadata": {},
            "source": [
                "No hacemos análisis porque es el mismo dataset que el modulo anterior"
            ]
        },
        {
            "cell_type": "markdown",
            "metadata": {},
            "source": [
                "División"
            ]
        },
        {
            "cell_type": "code",
            "execution_count": null,
            "metadata": {},
            "outputs": [],
            "source": [
                "# X_train, X_test, y_train, y_test = train_test_split(df.drop('Outcome', axis=1), df.Outcome, test_size=0.2, random_state=42)"
            ]
        },
        {
            "cell_type": "code",
            "execution_count": null,
            "metadata": {},
            "outputs": [],
            "source": [
                "# Convierto a array de numpy sino me da error a la hora de acceder a los índices\n",
                "# X_train = X_train.values\n",
                "# y_train = y_train.values"
            ]
        },
        {
            "cell_type": "code",
            "execution_count": null,
            "metadata": {},
            "outputs": [],
            "source": [
                "# class RandomForestCustom:\n",
                "\n",
                "#   def __init__(self, n_estimators, random_state, max_depth, min_samples_leaf, max_features, X, y):\n",
                "#     self.n_estimators = n_estimators\n",
                "#     self.random_state = random_state\n",
                "#     self.max_depth = max_depth\n",
                "#     self.min_samples_leaf = min_samples_leaf\n",
                "#     self.max_features = max_features\n",
                "#     self.X = X\n",
                "#     self.y = y\n",
                "#     self.models = []\n",
                "\n",
                "#   def get_bootstrap_dataset(self):\n",
                "#     seed(self.random_state)\n",
                "#     ls_idx_features, ls_data = [], []\n",
                "#     # Para cada uno de los estimadores\n",
                "#     for i in range(self.n_estimators):\n",
                "#       # Debo de seleccionar filas aleatorias de X (el dataset debe tener el mismo tamaño que el original)\n",
                "#       idx_rows_tree = choice(len(self.X), len(self.X), replace=True)\n",
                "#       # Debo de seleccionar tantas características como max_features tengo permitido\n",
                "#       idx_cols_tree = choice(self.X.shape[1], self.max_features, replace=False)\n",
                "#       # Guardar los indices seleccionados de las caracteríticas en una lista\n",
                "#       ls_idx_features.append(idx_cols_tree)\n",
                "#       # Guardar los datos seleccionados que se usarán para entrenar cada árbol\n",
                "#       ls_data.append((self.X[idx_rows_tree,:][:,idx_cols_tree],self.y[idx_rows_tree]))\n",
                "#     # Devuelvo las listas\n",
                "#     return ls_idx_features, ls_data\n",
                "\n",
                "#   def fit(self):\n",
                "#     # Obtener los datasets generados por bootstrap\n",
                "#     ls_idx_features, ls_data = self.get_bootstrap_dataset()\n",
                "#     # Para cada dataset\n",
                "#     for i, data in enumerate(ls_data):\n",
                "#       # Desempaco las X y la y de data\n",
                "#       X, y = data\n",
                "#       # Entrenar un árbol de decisión con esa versión del dataset y la configuración porporcionada por el usuario\n",
                "#       tree = DecisionTreeClassifier(max_depth=self.max_depth, min_samples_leaf=self.min_samples_leaf, max_features=self.max_features).fit(X, y)\n",
                "#       # Almaceno en el atributo modelos las características usadas junto con el árbol entrenado\n",
                "#       self.models.append((ls_idx_features[i], tree))\n",
                "\n",
                "#   def predict(self, X):\n",
                "#     ls_predictions = []\n",
                "#     if isinstance(X, pd.DataFrame):\n",
                "#         X = X.values\n",
                "#     # Para cada tupla del atributo models\n",
                "#     for idxs, tree in self.models:\n",
                "#       # Selecciona las columnas X que necesito para predecir\n",
                "#       X_to_predict = X[:,idxs]\n",
                "#       # Aplico el árbol entrenado sobre los datos seleccionados\n",
                "#       yhats = tree.predict(X_to_predict)\n",
                "#       # Guadamos en una lista las predicciones reportadas por el árbol\n",
                "#       ls_predictions.append(yhats)\n",
                "#     predictions = np.vstack(ls_predictions)\n",
                "#     final_predictions = [Counter(predictions[:,i]).most_common(1)[0][0] for i in range(predictions.shape[1])]\n",
                "#     return final_predictions"
            ]
        },
        {
            "cell_type": "code",
            "execution_count": null,
            "metadata": {},
            "outputs": [],
            "source": [
                "# rf_simple = RandomForestCustom(n_estimators=5, random_state=42, max_depth=2, min_samples_leaf=20, max_features=X_train.shape[1]//2, X=X_train, y=y_train)\n",
                "# rf_simple.fit()\n",
                "# rf_complex = RandomForestCustom(n_estimators=100, random_state=42, max_depth=20, min_samples_leaf=1, max_features=int(X_train.shape[1]*0.8), X=X_train, y=y_train)\n",
                "# rf_complex.fit()"
            ]
        },
        {
            "cell_type": "code",
            "execution_count": null,
            "metadata": {},
            "outputs": [],
            "source": [
                "# y_pred_train_simple = rf_simple.predict(X_train)\n",
                "# y_pred_test_simple = rf_simple.predict(X_test)\n",
                "\n",
                "# y_pred_train_complex = rf_complex.predict(X_train)\n",
                "# y_pred_test_complex = rf_complex.predict(X_test)"
            ]
        },
        {
            "cell_type": "code",
            "execution_count": null,
            "metadata": {},
            "outputs": [],
            "source": [
                "# def get_metrics(y_train, y_test, y_pred_train, y_pred_test):\n",
                "#     # Calcular métricas para el conjunto de entrenamiento\n",
                "#     train_accuracy = accuracy_score(y_train, y_pred_train)\n",
                "#     train_f1 = f1_score(y_train, y_pred_train)\n",
                "#     train_auc = roc_auc_score(y_train, y_pred_train)\n",
                "#     train_precision = precision_score(y_train, y_pred_train)\n",
                "#     train_recall = recall_score(y_train, y_pred_train)\n",
                "#     train_specificity = specificity_score(y_train, y_pred_train)\n",
                "\n",
                "#     # Calcular métricas para el conjunto de prueba\n",
                "#     test_accuracy = accuracy_score(y_test, y_pred_test)\n",
                "#     test_f1 = f1_score(y_test, y_pred_test)\n",
                "#     test_auc = roc_auc_score(y_test, y_pred_test)\n",
                "#     test_precision = precision_score(y_test, y_pred_test)\n",
                "#     test_recall = recall_score(y_test, y_pred_test)\n",
                "#     test_specificity = specificity_score(y_test, y_pred_test)\n",
                "\n",
                "#     # Calcular la diferencia entre métricas de entrenamiento y prueba\n",
                "#     diff_accuracy = train_accuracy - test_accuracy\n",
                "#     diff_f1 = train_f1 - test_f1\n",
                "#     diff_auc = train_auc - test_auc\n",
                "#     diff_precision = train_precision - test_precision\n",
                "#     diff_recall = train_recall - test_recall\n",
                "#     diff_specificity = train_specificity - test_specificity\n",
                "\n",
                "#     # Crear un DataFrame con los resultados\n",
                "#     metrics_df = pd.DataFrame([[train_accuracy, train_f1, train_auc, train_precision, train_recall, train_specificity],[test_accuracy, test_f1, test_auc, test_precision, test_recall, test_specificity],[diff_accuracy, diff_f1, diff_auc, diff_precision, diff_recall, diff_specificity]],\n",
                "#                               columns = ['Accuracy', 'F1', 'AUC', 'Precision', 'Recall', 'Specificity'],\n",
                "#                               index = ['Train','Test', 'Diferencia'])\n",
                "\n",
                "#     return metrics_df"
            ]
        },
        {
            "cell_type": "code",
            "execution_count": null,
            "metadata": {},
            "outputs": [
                {
                    "data": {
                        "text/html": [
                            "<div>\n",
                            "<style scoped>\n",
                            "    .dataframe tbody tr th:only-of-type {\n",
                            "        vertical-align: middle;\n",
                            "    }\n",
                            "\n",
                            "    .dataframe tbody tr th {\n",
                            "        vertical-align: top;\n",
                            "    }\n",
                            "\n",
                            "    .dataframe thead th {\n",
                            "        text-align: right;\n",
                            "    }\n",
                            "</style>\n",
                            "<table border=\"1\" class=\"dataframe\">\n",
                            "  <thead>\n",
                            "    <tr style=\"text-align: right;\">\n",
                            "      <th></th>\n",
                            "      <th>Accuracy</th>\n",
                            "      <th>F1</th>\n",
                            "      <th>AUC</th>\n",
                            "      <th>Precision</th>\n",
                            "      <th>Recall</th>\n",
                            "      <th>Specificity</th>\n",
                            "    </tr>\n",
                            "  </thead>\n",
                            "  <tbody>\n",
                            "    <tr>\n",
                            "      <th>Train</th>\n",
                            "      <td>1.000000</td>\n",
                            "      <td>1.00000</td>\n",
                            "      <td>1.000000</td>\n",
                            "      <td>1.000000</td>\n",
                            "      <td>1.000000</td>\n",
                            "      <td>1.000000</td>\n",
                            "    </tr>\n",
                            "    <tr>\n",
                            "      <th>Test</th>\n",
                            "      <td>0.707792</td>\n",
                            "      <td>0.60177</td>\n",
                            "      <td>0.687879</td>\n",
                            "      <td>0.586207</td>\n",
                            "      <td>0.618182</td>\n",
                            "      <td>0.757576</td>\n",
                            "    </tr>\n",
                            "    <tr>\n",
                            "      <th>Diferencia</th>\n",
                            "      <td>0.292208</td>\n",
                            "      <td>0.39823</td>\n",
                            "      <td>0.312121</td>\n",
                            "      <td>0.413793</td>\n",
                            "      <td>0.381818</td>\n",
                            "      <td>0.242424</td>\n",
                            "    </tr>\n",
                            "  </tbody>\n",
                            "</table>\n",
                            "</div>"
                        ],
                        "text/plain": [
                            "            Accuracy       F1       AUC  Precision    Recall  Specificity\n",
                            "Train       1.000000  1.00000  1.000000   1.000000  1.000000     1.000000\n",
                            "Test        0.707792  0.60177  0.687879   0.586207  0.618182     0.757576\n",
                            "Diferencia  0.292208  0.39823  0.312121   0.413793  0.381818     0.242424"
                        ]
                    },
                    "execution_count": 9,
                    "metadata": {},
                    "output_type": "execute_result"
                }
            ],
            "source": [
                "# get_metrics(y_train, y_test, y_pred_train_complex, y_pred_test_complex)"
            ]
        },
        {
            "cell_type": "code",
            "execution_count": null,
            "metadata": {},
            "outputs": [
                {
                    "data": {
                        "text/html": [
                            "<div>\n",
                            "<style scoped>\n",
                            "    .dataframe tbody tr th:only-of-type {\n",
                            "        vertical-align: middle;\n",
                            "    }\n",
                            "\n",
                            "    .dataframe tbody tr th {\n",
                            "        vertical-align: top;\n",
                            "    }\n",
                            "\n",
                            "    .dataframe thead th {\n",
                            "        text-align: right;\n",
                            "    }\n",
                            "</style>\n",
                            "<table border=\"1\" class=\"dataframe\">\n",
                            "  <thead>\n",
                            "    <tr style=\"text-align: right;\">\n",
                            "      <th></th>\n",
                            "      <th>Accuracy</th>\n",
                            "      <th>F1</th>\n",
                            "      <th>AUC</th>\n",
                            "      <th>Precision</th>\n",
                            "      <th>Recall</th>\n",
                            "      <th>Specificity</th>\n",
                            "    </tr>\n",
                            "  </thead>\n",
                            "  <tbody>\n",
                            "    <tr>\n",
                            "      <th>Train</th>\n",
                            "      <td>0.741042</td>\n",
                            "      <td>0.627635</td>\n",
                            "      <td>0.714803</td>\n",
                            "      <td>0.626168</td>\n",
                            "      <td>0.629108</td>\n",
                            "      <td>0.800499</td>\n",
                            "    </tr>\n",
                            "    <tr>\n",
                            "      <th>Test</th>\n",
                            "      <td>0.681818</td>\n",
                            "      <td>0.573913</td>\n",
                            "      <td>0.663636</td>\n",
                            "      <td>0.550000</td>\n",
                            "      <td>0.600000</td>\n",
                            "      <td>0.727273</td>\n",
                            "    </tr>\n",
                            "    <tr>\n",
                            "      <th>Diferencia</th>\n",
                            "      <td>0.059224</td>\n",
                            "      <td>0.053722</td>\n",
                            "      <td>0.051167</td>\n",
                            "      <td>0.076168</td>\n",
                            "      <td>0.029108</td>\n",
                            "      <td>0.073226</td>\n",
                            "    </tr>\n",
                            "  </tbody>\n",
                            "</table>\n",
                            "</div>"
                        ],
                        "text/plain": [
                            "            Accuracy        F1       AUC  Precision    Recall  Specificity\n",
                            "Train       0.741042  0.627635  0.714803   0.626168  0.629108     0.800499\n",
                            "Test        0.681818  0.573913  0.663636   0.550000  0.600000     0.727273\n",
                            "Diferencia  0.059224  0.053722  0.051167   0.076168  0.029108     0.073226"
                        ]
                    },
                    "execution_count": 10,
                    "metadata": {},
                    "output_type": "execute_result"
                }
            ],
            "source": [
                "# get_metrics(y_train, y_test, y_pred_train_simple, y_pred_test_simple)"
            ]
        },
        {
            "cell_type": "markdown",
            "metadata": {},
            "source": [
                "Notamos que respecto al árbol del proyecto anterior la especificidad ha mejorado, es decir, el problema de falsos positivos se ha solucionado un poco. En contraposición, encontramos disminución en la sensibilidad (Recall) lo cual nos indica que habrá más falsos negativos"
            ]
        },
        {
            "cell_type": "markdown",
            "metadata": {},
            "source": [
                "# Ejercicio con apuntes "
            ]
        },
        {
            "cell_type": "code",
            "execution_count": null,
            "metadata": {},
            "outputs": [],
            "source": [
                "import pandas as pd\n",
                "from sklearn.model_selection import train_test_split\n",
                "from sklearn.ensemble import RandomForestClassifier\n",
                "import matplotlib.pyplot as plt\n",
                "from sklearn import tree\n",
                "from sklearn.metrics import accuracy_score"
            ]
        },
        {
            "cell_type": "code",
            "execution_count": null,
            "metadata": {},
            "outputs": [],
            "source": [
                "df = pd.read_csv('https://raw.githubusercontent.com/4GeeksAcademy/decision-tree-project-tutorial/main/diabetes.csv')\n",
                "pd.set_option('display.max_columns', None)\n",
                "df.head()"
            ]
        },
        {
            "cell_type": "code",
            "execution_count": null,
            "metadata": {},
            "outputs": [],
            "source": [
                "X_train, X_test, y_train, y_test = train_test_split(df.drop('Outcome', axis=1), df.Outcome, test_size=0.2, random_state=42)"
            ]
        },
        {
            "cell_type": "markdown",
            "metadata": {},
            "source": [
                "## Inicialización y entrenamiento del modelo"
            ]
        },
        {
            "cell_type": "code",
            "execution_count": null,
            "metadata": {},
            "outputs": [],
            "source": [
                "model = RandomForestClassifier(random_state = 42)\n",
                "model.fit(X_train, y_train)"
            ]
        },
        {
            "cell_type": "markdown",
            "metadata": {},
            "source": [
                "Mostramos algunos de los árboles generados (100 por defecto)"
            ]
        },
        {
            "cell_type": "code",
            "execution_count": null,
            "metadata": {},
            "outputs": [],
            "source": [
                "fig, axis = plt.subplots(2, 2, figsize = (15, 15))\n",
                "\n",
                "tree.plot_tree(model.estimators_[0], ax = axis[0, 0], feature_names = list(X_train.columns), class_names = [\"ND\", \"D\"], filled = True)\n",
                "tree.plot_tree(model.estimators_[1], ax = axis[0, 1], feature_names = list(X_train.columns), class_names = [\"ND\", \"D\"], filled = True)\n",
                "tree.plot_tree(model.estimators_[2], ax = axis[1, 0], feature_names = list(X_train.columns), class_names = [\"ND\", \"D\"], filled = True)\n",
                "tree.plot_tree(model.estimators_[3], ax = axis[1, 1], feature_names = list(X_train.columns), class_names = [\"ND\", \"D\"], filled = True)\n",
                "\n",
                "plt.show()"
            ]
        },
        {
            "cell_type": "markdown",
            "metadata": {},
            "source": [
                "SOn árboles muy grandes porque no tienen parámetros establecidos"
            ]
        },
        {
            "cell_type": "markdown",
            "metadata": {},
            "source": [
                "## Predicción del modelo"
            ]
        },
        {
            "cell_type": "code",
            "execution_count": null,
            "metadata": {},
            "outputs": [],
            "source": [
                "y_pred = model.predict(X_test)\n",
                "y_pred"
            ]
        },
        {
            "cell_type": "markdown",
            "metadata": {},
            "source": [
                "Precisión"
            ]
        },
        {
            "cell_type": "code",
            "execution_count": null,
            "metadata": {},
            "outputs": [],
            "source": [
                "accuracy_score(y_test, y_pred)"
            ]
        },
        {
            "cell_type": "markdown",
            "metadata": {},
            "source": [
                "Hemos obtenido más baja que con la optimización realizada en el ejercicio anterior."
            ]
        },
        {
            "cell_type": "markdown",
            "metadata": {},
            "source": [
                "## Exploración de resultados con cambio en los hiperparámetros"
            ]
        },
        {
            "cell_type": "code",
            "execution_count": null,
            "metadata": {},
            "outputs": [],
            "source": [
                "model_2 = RandomForestClassifier(random_state = 42, n_estimators = 60)\n",
                "model_2.fit(X_train, y_train)"
            ]
        },
        {
            "cell_type": "code",
            "execution_count": null,
            "metadata": {},
            "outputs": [],
            "source": [
                "fig, axis = plt.subplots(2, 2, figsize = (15, 15))\n",
                "\n",
                "tree.plot_tree(model_2.estimators_[0], ax = axis[0, 0], feature_names = list(X_train.columns), class_names = [\"ND\", \"D\"], filled = True)\n",
                "tree.plot_tree(model_2.estimators_[1], ax = axis[0, 1], feature_names = list(X_train.columns), class_names = [\"ND\", \"D\"], filled = True)\n",
                "tree.plot_tree(model_2.estimators_[2], ax = axis[1, 0], feature_names = list(X_train.columns), class_names = [\"ND\", \"D\"], filled = True)\n",
                "tree.plot_tree(model_2.estimators_[3], ax = axis[1, 1], feature_names = list(X_train.columns), class_names = [\"ND\", \"D\"], filled = True)\n",
                "\n",
                "plt.show()"
            ]
        },
        {
            "cell_type": "code",
            "execution_count": null,
            "metadata": {},
            "outputs": [],
            "source": [
                "y_pred_2 = model_2.predict(X_test)\n",
                "y_pred_2"
            ]
        },
        {
            "cell_type": "code",
            "execution_count": null,
            "metadata": {},
            "outputs": [],
            "source": [
                "accuracy_score(y_test, y_pred_2)"
            ]
        },
        {
            "cell_type": "markdown",
            "metadata": {},
            "source": [
                "Obtengo peores resultados que en la solución. Lo único diferente es que carga los datos guardados del anterior ejercicio pero no afecta porque no hace ninguún tratamiento diferente."
            ]
        }
    ],
    "metadata": {
        "kernelspec": {
            "display_name": "Python 3.8.13 64-bit ('3.8.13')",
            "language": "python",
            "name": "python3"
        },
        "language_info": {
            "codemirror_mode": {
                "name": "ipython",
                "version": 3
            },
            "file_extension": ".py",
            "mimetype": "text/x-python",
            "name": "python",
            "nbconvert_exporter": "python",
            "pygments_lexer": "ipython3",
            "version": "3.12.4"
        },
        "orig_nbformat": 4,
        "vscode": {
            "interpreter": {
                "hash": "110cc1dee26208153f2972f08a2ad52b6a56238dc66d48e87fb757ef2996db56"
            }
        }
    },
    "nbformat": 4,
    "nbformat_minor": 2
}
